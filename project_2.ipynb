{
 "cells": [
  {
   "cell_type": "code",
   "execution_count": null,
   "metadata": {
    "collapsed": true,
    "id": "Ed5xZc6DyaHl",
    "jupyter": {
     "outputs_hidden": true
    }
   },
   "outputs": [],
   "source": [
    "#project-2\n",
    "#1.\n",
    "import pandas as pd\n",
    "import random\n",
    "random.seed(42)\n",
    "\n",
    "registration_numbers = [f'20191320{i:02d}' for i in range(1, 51)]\n",
    "tt1_marks = [random.randint(0, 20) for _ in range(50)]\n",
    "data = {\n",
    "    'Registration Number': registration_numbers,\n",
    "    'Name': [f'Student{i}' for i in range(1, 51)],\n",
    "    'TT-1 Marks': tt1_marks\n",
    "}\n",
    "df = pd.DataFrame(data)\n",
    "df.to_csv('term-test-1-result.csv', index=False)\n",
    "df = pd.read_csv('term-test-1-result.csv')\n",
    "print(df.head(51))\n",
    "print(\"CSV file 'term-test-1-result.csv' created successfully!\")\n"
   ]
  },
  {
   "cell_type": "code",
   "execution_count": null,
   "metadata": {
    "collapsed": true,
    "id": "8Ie8ma7uzNCR",
    "jupyter": {
     "outputs_hidden": true
    }
   },
   "outputs": [],
   "source": [
    "#2.\n",
    "\n",
    "import pandas as pd\n",
    "import random\n",
    "\n",
    "df = pd.read_csv('term-test-1-result.csv')\n",
    "\n",
    "tt2_marks = [random.randint(0, 20) for _ in range(50)]\n",
    "\n",
    "new_data = {\n",
    "    'Registration Number': df['Registration Number'],\n",
    "    'Name': df['Name'],\n",
    "    'TT-2 Marks': tt2_marks\n",
    "}\n",
    "\n",
    "new_df = pd.DataFrame(new_data)\n",
    "\n",
    "new_df.to_csv('term-test-2-result.csv', index=False)\n",
    "\n",
    "print(\"term-test-1-result.csv:\")\n",
    "print(df.head(51))\n",
    "print(\"\\n\")\n",
    "\n",
    "print(\"term-test-2-result.csv:\")\n",
    "print(new_df.head(51))\n",
    "print(\"\\n\")\n",
    "\n",
    "print(\"CSV files 'term-test-1-result.csv' and 'term-test-2-result.csv' created successfully!\")\n"
   ]
  },
  {
   "cell_type": "code",
   "execution_count": null,
   "metadata": {
    "collapsed": true,
    "id": "9lEEICB212Ec",
    "jupyter": {
     "outputs_hidden": true
    }
   },
   "outputs": [],
   "source": [
    "#3.\n",
    "\n",
    "import pandas as pd\n",
    "\n",
    "df1 = pd.read_csv('term-test-1-result.csv')\n",
    "df2 = pd.read_csv('term-test-2-result.csv')\n",
    "\n",
    "merged_df = pd.merge(df1, df2, on=['Registration Number','Name'])\n",
    "\n",
    "print(merged_df)\n",
    "\n",
    "merged_df.to_csv('merged_results.csv', index=False)\n"
   ]
  },
  {
   "cell_type": "code",
   "execution_count": null,
   "metadata": {
    "collapsed": true,
    "id": "Rkjsl1ow4NHK",
    "jupyter": {
     "outputs_hidden": true
    }
   },
   "outputs": [],
   "source": [
    "#4.\n",
    "\n",
    "import pandas as pd\n",
    "\n",
    "merged_df = pd.read_csv('merged_results.csv')\n",
    "\n",
    "merged_df['Best Term Test Marks'] = merged_df[['TT-1 Marks', 'TT-2 Marks']].max(axis=1)\n",
    "\n",
    "merged_df['Average Term Test Marks'] = merged_df[['TT-1 Marks', 'TT-2 Marks']].mean(axis=1)\n",
    "\n",
    "print(merged_df)\n",
    "\n",
    "merged_df.to_csv('final_results.csv', index=False)\n"
   ]
  },
  {
   "cell_type": "code",
   "execution_count": null,
   "metadata": {
    "collapsed": true,
    "id": "HEPdGI0M4sbm",
    "jupyter": {
     "outputs_hidden": true
    }
   },
   "outputs": [],
   "source": [
    "# 5\n",
    "\n",
    "import pandas as pd\n",
    "\n",
    "\n",
    "final_df = pd.read_csv('final_results.csv')\n",
    "\n",
    "\n",
    "final_df = final_df.drop(['TT-1 Marks', 'TT-2 Marks'], axis=1)\n",
    "\n",
    "print(final_df)\n",
    "\n",
    "final_df.to_csv('final_results_modified.csv', index=False)\n"
   ]
  },
  {
   "cell_type": "code",
   "execution_count": null,
   "metadata": {
    "collapsed": true,
    "id": "8L-ebQVt57gP",
    "jupyter": {
     "outputs_hidden": true
    }
   },
   "outputs": [],
   "source": [
    "#6\n",
    "\n",
    "import pandas as pd\n",
    "import random\n",
    "\n",
    "final_df = pd.read_csv('final_results_modified.csv')\n",
    "\n",
    "attendance_marks = [random.randint(0, 10) for _ in range(len(final_df))]\n",
    "term_final_marks = [random.randint(0, 100) for _ in range(len(final_df))]\n",
    "\n",
    "final_df['Attendance Marks'] = attendance_marks\n",
    "final_df['Term Final Marks'] = term_final_marks\n",
    "\n",
    "final_df['Final Marks'] = (final_df['Term Final Marks'] * 0.7) + final_df['Average Term Test Marks'] + final_df['Attendance Marks']\n",
    "\n",
    "print(final_df)\n",
    "\n",
    "final_df.to_csv('final_student_results.csv', index=False)\n",
    "\n",
    "print(\"CSV file 'final_student_results.csv' created successfully!\")\n"
   ]
  },
  {
   "cell_type": "code",
   "execution_count": null,
   "metadata": {
    "collapsed": true,
    "id": "eqdxOX8P8PSu",
    "jupyter": {
     "outputs_hidden": true
    }
   },
   "outputs": [],
   "source": [
    "#7\n",
    "import pandas as pd\n",
    "import random\n",
    "\n",
    "random.seed(42)\n",
    "\n",
    "\n",
    "final_df.to_csv('final result.csv', index=False)\n",
    "\n",
    "print(final_df)\n",
    "\n",
    "from google.colab import files\n",
    "files.download('final result.csv')\n"
   ]
  },
  {
   "cell_type": "code",
   "execution_count": null,
   "metadata": {
    "id": "YF2QBdJC-iH0"
   },
   "outputs": [],
   "source": [
    "#8\n",
    "\n",
    "import pandas as pd\n",
    "import matplotlib.pyplot as plt\n",
    "from sklearn.cluster import KMeans\n",
    "\n",
    "df_final = pd.read_csv('final result.csv')\n",
    "\n",
    "X = df_final[['Final Marks']]\n",
    "\n",
    "for k in range(2, 6):\n",
    "    kmeans = KMeans(n_clusters=k, random_state=42, n_init=10)\n",
    "    df_final['Cluster'] = kmeans.fit_predict(X)\n",
    "\n",
    "\n",
    "    plt.figure(figsize=(10, 6))\n",
    "    plt.scatter(df_final['Final Marks'], [0] * len(df_final), c=df_final['Cluster'], cmap='viridis', s=100, edgecolors='k')\n",
    "    plt.scatter(kmeans.cluster_centers_[:, 0], [0] * k, s=300, c='red', label='Centroids')\n",
    "    plt.xlabel('Final Marks')\n",
    "    plt.title(f'K-Means Clustering of Final Marks (K={k})')\n",
    "    plt.yticks([])\n",
    "    plt.colorbar(label='Cluster')\n",
    "    plt.legend()\n",
    "    plt.grid()\n",
    "    plt.show()\n",
    "\n",
    "\n"
   ]
  }
 ],
 "metadata": {
  "colab": {
   "private_outputs": true,
   "provenance": []
  },
  "kernelspec": {
   "display_name": "Python 3 (ipykernel)",
   "language": "python",
   "name": "python3"
  },
  "language_info": {
   "codemirror_mode": {
    "name": "ipython",
    "version": 3
   },
   "file_extension": ".py",
   "mimetype": "text/x-python",
   "name": "python",
   "nbconvert_exporter": "python",
   "pygments_lexer": "ipython3",
   "version": "3.12.7"
  }
 },
 "nbformat": 4,
 "nbformat_minor": 4
}
